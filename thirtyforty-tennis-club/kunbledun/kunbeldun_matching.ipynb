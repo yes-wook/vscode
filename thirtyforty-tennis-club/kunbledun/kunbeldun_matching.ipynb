{
 "cells": [
  {
   "cell_type": "code",
   "execution_count": 4,
   "metadata": {},
   "outputs": [
    {
     "name": "stdout",
     "output_type": "stream",
     "text": [
      "           조 구분 백팀 선수1 백팀 선수2 청팀 선수1 청팀 선수2  라운드 백팀 페어 유형 청팀 페어 유형\n",
      "0   2조(여)-3조(여)    리디아     빈지      윰     크림    1       여복       여복\n",
      "1   2조(여)-3조(여)     제인     반이      뽐     진영    1       여복       여복\n",
      "2   2조(여)-3조(여)   파란하늘     시호      썬     문문    1       여복       여복\n",
      "3   2조(여)-3조(여)     린다     야금     지니    우당탕    1       여복       여복\n",
      "4   2조(여)-3조(여)     아롬    미르키     사리    클레어    1       여복       여복\n",
      "..          ...    ...    ...    ...    ...  ...      ...      ...\n",
      "67  1조(남)-3조(여)     정현     시호     새싹      쩡    4       혼복       혼복\n",
      "68  1조(남)-3조(여)     자광    나여영     슬슬    우당탕    4       혼복       혼복\n",
      "69  1조(남)-3조(여)     재근     야금     주방    클레어    4       혼복       혼복\n",
      "70  1조(남)-3조(여)     백호     반이      큐     문문    4       혼복       혼복\n",
      "71  1조(남)-3조(여)     똥시    미르키    유보트     크림    4       혼복       혼복\n",
      "\n",
      "[72 rows x 8 columns]\n"
     ]
    }
   ],
   "source": [
    "import pandas as pd\n",
    "import random\n",
    "\n",
    "# 랜덤 시드 설정\n",
    "random_seed_white = 34  # 원하는 시드 값을 설정하세요\n",
    "random_seed_blue = 7  # 원하는 시드 값을 설정하세요\n",
    "\n",
    "\n",
    "# 엑셀 파일 읽기\n",
    "df_1 = pd.read_excel('백팀_fair_3079_input.xlsx')\n",
    "df_2 = pd.read_excel('청팀_fair_3076_input.xlsx')\n",
    "\n",
    "# '조 구분'에 있는 고유 값 추출\n",
    "unique_groups = df_1['조 구분'].unique()\n",
    "\n",
    "# 매칭 결과를 저장할 리스트\n",
    "all_matches = []\n",
    "\n",
    "# 각 '조 구분'에 대해 매칭 수행\n",
    "for group in unique_groups:\n",
    "    # '조 구분'이 해당 그룹인 행 필터링\n",
    "    df_1_filtered = df_1[df_1['조 구분'] == group]\n",
    "    df_2_filtered = df_2[df_2['조 구분'] == group]\n",
    "\n",
    "    # 두 파일에서 필터링된 데이터를 랜덤하게 섞기\n",
    "    df_1_filtered_shuffled = df_1_filtered.sample(frac=1, random_state=random_seed_white).reset_index(drop=True)\n",
    "    df_2_filtered_shuffled = df_2_filtered.sample(frac=1, random_state=random_seed_blue).reset_index(drop=True)\n",
    "\n",
    "    # 짝이 맞을 만큼의 최소 행 수를 기준으로 매칭\n",
    "    min_length = min(len(df_1_filtered_shuffled), len(df_2_filtered_shuffled))\n",
    "\n",
    "    # 해당 그룹의 매칭을 저장할 리스트\n",
    "    matches = []\n",
    "\n",
    "    for i in range(min_length):\n",
    "        team_1 = df_1_filtered_shuffled.iloc[i]\n",
    "        team_2 = df_2_filtered_shuffled.iloc[i]\n",
    "        \n",
    "        match = {\n",
    "            '조 구분': group,\n",
    "            '백팀 선수1': team_1['선수'],\n",
    "            '백팀 선수2': team_1['선수2'],\n",
    "            '청팀 선수1': team_2['선수'],\n",
    "            '청팀 선수2': team_2['선수2'],\n",
    "            '라운드': team_1['라운드'],  # 백팀 라운드 기준\n",
    "            '백팀 페어 유형': team_1['페어 유형'],\n",
    "            '청팀 페어 유형': team_2['페어 유형']\n",
    "        }\n",
    "        \n",
    "        matches.append(match)\n",
    "\n",
    "    # 해당 그룹의 매칭을 전체 매칭 리스트에 추가\n",
    "    all_matches.extend(matches)\n",
    "\n",
    "# 매칭 결과를 DataFrame으로 변환\n",
    "match_df = pd.DataFrame(all_matches)\n",
    "\n",
    "# 매칭 결과를 엑셀 파일로 저장\n",
    "match_df.to_excel(f'랜덤_대진표_전체_blue{random_seed_blue}_white{random_seed_white}.xlsx', index=False)\n",
    "\n",
    "# 매칭 결과 출력\n",
    "print(match_df)"
   ]
  }
 ],
 "metadata": {
  "kernelspec": {
   "display_name": "Python 3",
   "language": "python",
   "name": "python3"
  },
  "language_info": {
   "codemirror_mode": {
    "name": "ipython",
    "version": 3
   },
   "file_extension": ".py",
   "mimetype": "text/x-python",
   "name": "python",
   "nbconvert_exporter": "python",
   "pygments_lexer": "ipython3",
   "version": "3.11.6"
  }
 },
 "nbformat": 4,
 "nbformat_minor": 2
}
